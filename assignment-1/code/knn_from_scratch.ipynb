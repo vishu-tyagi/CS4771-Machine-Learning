{
  "nbformat": 4,
  "nbformat_minor": 0,
  "metadata": {
    "colab": {
      "name": "knn_from_scratch.ipynb",
      "provenance": [],
      "collapsed_sections": [],
      "machine_shape": "hm"
    },
    "kernelspec": {
      "name": "python3",
      "display_name": "Python 3"
    },
    "language_info": {
      "name": "python"
    },
    "accelerator": "GPU"
  },
  "cells": [
    {
      "cell_type": "code",
      "execution_count": null,
      "metadata": {
        "id": "jY72k6LvJiy6"
      },
      "outputs": [],
      "source": [
        "from tqdm import tqdm\n",
        "\n",
        "import numpy as np\n",
        "import pandas as pd\n",
        "import seaborn as sns\n",
        "import matplotlib.pyplot as plt\n",
        "\n",
        "from sklearn.model_selection import train_test_split, StratifiedKFold\n",
        "from sklearn.preprocessing import StandardScaler\n",
        "\n",
        "from utils import *"
      ]
    },
    {
      "cell_type": "code",
      "source": [
        "X, Y = load_data()\n",
        "X = X/255\n",
        "\n",
        "(m, d) = X.shape\n",
        "print(f'Input dimension:{d}, Total samples: {m}')"
      ],
      "metadata": {
        "colab": {
          "base_uri": "https://localhost:8080/"
        },
        "id": "_ZnGwA9EJyDZ",
        "outputId": "8eaae0d8-6e8e-4400-d2dc-0fdaea0e372f"
      },
      "execution_count": null,
      "outputs": [
        {
          "output_type": "stream",
          "name": "stdout",
          "text": [
            "Input dimension:784, Total samples: 10000\n"
          ]
        }
      ]
    },
    {
      "cell_type": "code",
      "source": [
        "devScores = []\n",
        "testScores = []\n",
        "seeds = [28, 42, 84, 128, 164, 256, 512, 999]\n",
        "\n",
        "for seed in tqdm(seeds):\n",
        "    X_dev, X_test, Y_dev, Y_test = train_test_split(X, Y, test_size=.2, shuffle=True, stratify=Y, random_state=seed)\n",
        "    \n",
        "    sc = StandardScaler()\n",
        "    # fit the scaler on dev set\n",
        "    sc.fit(X_dev)\n",
        "    # transform the dev set\n",
        "    X_dev_sc = sc.transform(X_dev)\n",
        "    # transform the test set\n",
        "    X_test_sc = sc.transform(X_test)\n",
        "\n",
        "    # euclidean knn\n",
        "    knn_l2 = KNNClassifier()\n",
        "    knn_l2.fit(data=X_dev_sc, labels=Y_dev)\n",
        "\n",
        "    devScores.append(knn_l2.score(pMat=X_dev_sc, true=Y_dev, K=5, p=2))\n",
        "    testScores.append(knn_l2.score(pMat=X_test_sc, true=Y_test, K=5, p=2))"
      ],
      "metadata": {
        "colab": {
          "base_uri": "https://localhost:8080/"
        },
        "id": "lfX6J2-wnSUW",
        "outputId": "950a37bd-5c94-42a5-db7c-8ad41c270ac8"
      },
      "execution_count": null,
      "outputs": [
        {
          "output_type": "stream",
          "name": "stderr",
          "text": [
            "100%|██████████| 8/8 [01:08<00:00,  8.56s/it]\n"
          ]
        }
      ]
    },
    {
      "cell_type": "code",
      "source": [
        "print(f'\\n\\nAverage accuracy on dev set: {np.mean(np.array(devScores)):.3f}')\n",
        "print(f'Average accuracy on test set: {np.mean(np.array(testScores)):.3f}')"
      ],
      "metadata": {
        "colab": {
          "base_uri": "https://localhost:8080/"
        },
        "id": "Ul3knoBwoCsh",
        "outputId": "b3095f81-6a3c-4e6d-a106-2a0af4d25e2c"
      },
      "execution_count": null,
      "outputs": [
        {
          "output_type": "stream",
          "name": "stdout",
          "text": [
            "\n",
            "\n",
            "Average accuracy on dev set: 0.941\n",
            "Average accuracy on test set: 0.913\n"
          ]
        }
      ]
    },
    {
      "cell_type": "code",
      "source": [
        "df = {'Random Seed':seeds+seeds, \n",
        "      'Score':devScores+testScores, \n",
        "      'Accuracy':['Development']*8 + ['Test']*8}\n",
        "\n",
        "df = pd.DataFrame(df)\n",
        "\n",
        "plt.figure(figsize=(10,6))\n",
        "\n",
        "sns.barplot(data=df, x='Random Seed', y='Score', hue='Accuracy')\n",
        "plt.xlabel('Random Seed')\n",
        "plt.ylabel('Average accuracy over 8 splits')\n",
        "plt.yticks([.1*i for i in range(0, 10)])\n",
        "plt.title('Evaluating KNN classifier with K=5 and $L_2$ norm')\n",
        "plt.savefig('Evaluating_KNN_Classifer');"
      ],
      "metadata": {
        "colab": {
          "base_uri": "https://localhost:8080/",
          "height": 406
        },
        "id": "nDO7eLW1nncV",
        "outputId": "be792783-858b-45c4-f765-dc01013069ad"
      },
      "execution_count": null,
      "outputs": [
        {
          "output_type": "display_data",
          "data": {
            "image/png": "[encoded data removed]",
            "text/plain": [
              "<Figure size 720x432 with 1 Axes>"
            ]
          },
          "metadata": {
            "needs_background": "light"
          }
        }
      ]
    },
    {
      "cell_type": "code",
      "source": [
        "devScores"
      ],
      "metadata": {
        "colab": {
          "base_uri": "https://localhost:8080/"
        },
        "id": "y9Z1xDwVoinl",
        "outputId": "d5c8b898-54dc-4d98-fd05-1f5c7b14d436"
      },
      "execution_count": null,
      "outputs": [
        {
          "output_type": "execute_result",
          "data": {
            "text/plain": [
              "[0.93925, 0.94275, 0.942125, 0.939875, 0.941625, 0.93875, 0.941, 0.939375]"
            ]
          },
          "metadata": {},
          "execution_count": 8
        }
      ]
    },
    {
      "cell_type": "code",
      "source": [
        "testScores"
      ],
      "metadata": {
        "colab": {
          "base_uri": "https://localhost:8080/"
        },
        "id": "XYhnXG-hok78",
        "outputId": "97be1b01-4cb2-4ac6-eb86-d8f06104b418"
      },
      "execution_count": null,
      "outputs": [
        {
          "output_type": "execute_result",
          "data": {
            "text/plain": [
              "[0.915, 0.908, 0.9105, 0.9185, 0.91, 0.916, 0.915, 0.915]"
            ]
          },
          "metadata": {},
          "execution_count": 10
        }
      ]
    },
    {
      "cell_type": "markdown",
      "source": [
        "Now, let us tune $K$ for $\\ell2 \\text{ norm}$ "
      ],
      "metadata": {
        "id": "xzcyOFtJYaNT"
      }
    },
    {
      "cell_type": "code",
      "source": [
        "nSplits = 10\n",
        "maxNeighbors = 20\n",
        "neighbors = [i+1 for i in range(maxNeighbors)]\n",
        "\n",
        "X_dev, X_test, Y_dev, Y_test = train_test_split(X, Y, test_size=.2, shuffle=True, stratify=Y, random_state=42)\n",
        "skf = StratifiedKFold(n_splits=nSplits, shuffle=True, random_state=84)\n",
        "\n",
        "curr_split = 0\n",
        "splitTrainScores = []\n",
        "splitValScores = []\n",
        "\n",
        "for train_index, val_index in skf.split(X_dev, Y_dev):\n",
        "    curr_split += 1 \n",
        "\n",
        "    X_train = X_dev[train_index]\n",
        "    Y_train = Y_dev[train_index]\n",
        "\n",
        "    X_val = X_dev[val_index]\n",
        "    Y_val = Y_dev[val_index]\n",
        "\n",
        "    sc = StandardScaler()\n",
        "    # fit the scaler on train set\n",
        "    sc.fit(X_train)\n",
        "    # transform the train set\n",
        "    X_train_sc = sc.transform(X_train)\n",
        "    # transform the val set\n",
        "    X_val_sc = sc.transform(X_val)\n",
        "\n",
        "    # Build the KNN Classifier on train set\n",
        "    knn_l2 = KNNClassifier()\n",
        "    knn_l2.fit(data=X_train_sc, labels=Y_train)\n",
        "\n",
        "    train_scores = []\n",
        "    val_scores = []\n",
        "\n",
        "    print(f'\\n\\nProcessing split:{curr_split}')\n",
        "    for k in tqdm(neighbors):\n",
        "        train_scores.append(knn_l2.score(pMat=X_train_sc, true=Y_train, K=k, p=2)) \n",
        "        val_scores.append(knn_l2.score(pMat=X_val_sc, true=Y_val, K=k, p=2))\n",
        "   \n",
        "    splitTrainScores.append(train_scores)\n",
        "    splitValScores.append(val_scores)\n",
        "\n",
        "splitTrainScores = np.array(splitTrainScores).T\n",
        "splitValScores = np.array(splitValScores).T\n",
        "\n",
        "avgTrainScores = np.mean(splitTrainScores, axis=1)\n",
        "avgValScores = np.mean(splitValScores, axis=1)"
      ],
      "metadata": {
        "colab": {
          "base_uri": "https://localhost:8080/"
        },
        "id": "AsCG3EkG3eO4",
        "outputId": "aa373a92-7630-431b-d6b9-e888e5ef64cb"
      },
      "execution_count": null,
      "outputs": [
        {
          "output_type": "stream",
          "name": "stdout",
          "text": [
            "\n",
            "\n",
            "Processing split:1\n"
          ]
        },
        {
          "output_type": "stream",
          "name": "stderr",
          "text": [
            "100%|██████████| 20/20 [01:57<00:00,  5.86s/it]\n"
          ]
        },
        {
          "output_type": "stream",
          "name": "stdout",
          "text": [
            "\n",
            "\n",
            "Processing split:2\n"
          ]
        },
        {
          "output_type": "stream",
          "name": "stderr",
          "text": [
            "100%|██████████| 20/20 [01:56<00:00,  5.82s/it]\n"
          ]
        },
        {
          "output_type": "stream",
          "name": "stdout",
          "text": [
            "\n",
            "\n",
            "Processing split:3\n"
          ]
        },
        {
          "output_type": "stream",
          "name": "stderr",
          "text": [
            "100%|██████████| 20/20 [01:55<00:00,  5.79s/it]\n"
          ]
        },
        {
          "output_type": "stream",
          "name": "stdout",
          "text": [
            "\n",
            "\n",
            "Processing split:4\n"
          ]
        },
        {
          "output_type": "stream",
          "name": "stderr",
          "text": [
            "100%|██████████| 20/20 [01:54<00:00,  5.72s/it]\n"
          ]
        },
        {
          "output_type": "stream",
          "name": "stdout",
          "text": [
            "\n",
            "\n",
            "Processing split:5\n"
          ]
        },
        {
          "output_type": "stream",
          "name": "stderr",
          "text": [
            "100%|██████████| 20/20 [01:55<00:00,  5.80s/it]\n"
          ]
        },
        {
          "output_type": "stream",
          "name": "stdout",
          "text": [
            "\n",
            "\n",
            "Processing split:6\n"
          ]
        },
        {
          "output_type": "stream",
          "name": "stderr",
          "text": [
            "100%|██████████| 20/20 [01:55<00:00,  5.76s/it]\n"
          ]
        },
        {
          "output_type": "stream",
          "name": "stdout",
          "text": [
            "\n",
            "\n",
            "Processing split:7\n"
          ]
        },
        {
          "output_type": "stream",
          "name": "stderr",
          "text": [
            "100%|██████████| 20/20 [01:54<00:00,  5.73s/it]\n"
          ]
        },
        {
          "output_type": "stream",
          "name": "stdout",
          "text": [
            "\n",
            "\n",
            "Processing split:8\n"
          ]
        },
        {
          "output_type": "stream",
          "name": "stderr",
          "text": [
            "100%|██████████| 20/20 [01:53<00:00,  5.69s/it]\n"
          ]
        },
        {
          "output_type": "stream",
          "name": "stdout",
          "text": [
            "\n",
            "\n",
            "Processing split:9\n"
          ]
        },
        {
          "output_type": "stream",
          "name": "stderr",
          "text": [
            "100%|██████████| 20/20 [01:53<00:00,  5.67s/it]\n"
          ]
        },
        {
          "output_type": "stream",
          "name": "stdout",
          "text": [
            "\n",
            "\n",
            "Processing split:10\n"
          ]
        },
        {
          "output_type": "stream",
          "name": "stderr",
          "text": [
            "100%|██████████| 20/20 [01:53<00:00,  5.67s/it]\n"
          ]
        }
      ]
    },
    {
      "cell_type": "code",
      "source": [
        "plt.figure(figsize=(10,6))\n",
        "\n",
        "sns.lineplot(x=neighbors, y=avgTrainScores, label='Average Train Score')\n",
        "sns.lineplot(x=neighbors, y=avgValScores, label='Average Validation Score')\n",
        "\n",
        "plt.xlabel('K')\n",
        "plt.ylabel('Accuracy')\n",
        "plt.title('Tuning K for KNN with $L_2$ norm')\n",
        "plt.legend()\n",
        "plt.savefig('Tuning K');"
      ],
      "metadata": {
        "id": "c1KAEMfpeFJJ",
        "colab": {
          "base_uri": "https://localhost:8080/",
          "height": 406
        },
        "outputId": "de5e28cc-e25a-4a4a-8a4d-64666da89923"
      },
      "execution_count": null,
      "outputs": [
        {
          "output_type": "display_data",
          "data": {
            "image/png": "[encoded data removed]",
            "text/plain": [
              "<Figure size 720x432 with 1 Axes>"
            ]
          },
          "metadata": {
            "needs_background": "light"
          }
        }
      ]
    },
    {
      "cell_type": "markdown",
      "source": [
        "We can see that $K=5$ seems to be the sweet spot. Now let us evaluate our model with $K=5$ on the test dataset."
      ],
      "metadata": {
        "id": "dj19wa6rfQG3"
      }
    },
    {
      "cell_type": "code",
      "source": [
        "knn_l2 = KNNClassifier()\n",
        "\n",
        "sc = StandardScaler()\n",
        "# fit the scaler on dev set\n",
        "sc.fit(X_dev)\n",
        "# transform the dev set\n",
        "X_dev_sc = sc.transform(X_dev)\n",
        "# transform the test set\n",
        "X_test_sc = sc.transform(X_test)\n",
        "\n",
        "# trained the tuned model on whole development set\n",
        "knn_l2.fit(data=X_dev_sc, labels=Y_dev)\n",
        "\n",
        "print(f'\\nAccuracy on development set: {knn_l2.score(pMat=X_dev_sc, true=Y_dev, K=5, p=2):.3f}\\n')\n",
        "print(f'Accuracy on test set: {knn_l2.score(pMat=X_test_sc, true=Y_test, K=5, p=2):.3f}')\n"
      ],
      "metadata": {
        "id": "w1-zsBeYfOXa",
        "colab": {
          "base_uri": "https://localhost:8080/"
        },
        "outputId": "b84b15ee-fb28-4f6e-e4f4-aa498bd7092e"
      },
      "execution_count": null,
      "outputs": [
        {
          "output_type": "stream",
          "name": "stdout",
          "text": [
            "\n",
            "Accuracy on development set: 0.943\n",
            "\n",
            "Accuracy on test set: 0.908\n"
          ]
        }
      ]
    },
    {
      "cell_type": "markdown",
      "source": [
        "We will use $K=5$ to perform comparative analysis between MLE Classifier and KNN"
      ],
      "metadata": {
        "id": "FGDWkB0Hrzig"
      }
    }
  ]
}