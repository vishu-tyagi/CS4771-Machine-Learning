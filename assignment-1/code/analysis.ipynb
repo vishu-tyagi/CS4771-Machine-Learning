{
  "nbformat": 4,
  "nbformat_minor": 0,
  "metadata": {
    "colab": {
      "name": "analysis.ipynb",
      "provenance": [],
      "machine_shape": "hm",
      "collapsed_sections": []
    },
    "kernelspec": {
      "name": "python3",
      "display_name": "Python 3"
    },
    "language_info": {
      "name": "python"
    },
    "accelerator": "GPU"
  },
  "cells": [
    {
      "cell_type": "code",
      "source": [
        "from tqdm import tqdm\n",
        "\n",
        "import numpy as np\n",
        "import pandas as pd\n",
        "import seaborn as sns\n",
        "import matplotlib.pyplot as plt\n",
        "\n",
        "import pprint as pp\n",
        "pp = pp.PrettyPrinter(indent=4)\n",
        "\n",
        "from sklearn.model_selection import train_test_split, StratifiedKFold\n",
        "from sklearn.preprocessing import StandardScaler\n",
        "\n",
        "from utils import *"
      ],
      "metadata": {
        "id": "nXt99ZZSU8gB"
      },
      "execution_count": 32,
      "outputs": []
    },
    {
      "cell_type": "code",
      "source": [
        "X, Y = load_data()\n",
        "X = X/255.0\n",
        "\n",
        "(m, d) = X.shape\n",
        "print(f'Input dimension:{d}, Total samples: {m}')"
      ],
      "metadata": {
        "colab": {
          "base_uri": "https://localhost:8080/"
        },
        "id": "ZtpeQwCXHHkP",
        "outputId": "1c57e856-22c6-4da2-a1a5-2e39dbb9eadd"
      },
      "execution_count": 33,
      "outputs": [
        {
          "output_type": "stream",
          "name": "stdout",
          "text": [
            "Input dimension:784, Total samples: 10000\n"
          ]
        }
      ]
    },
    {
      "cell_type": "code",
      "source": [
        "seeds = [84, 128, 164, 256, 512]\n",
        "trainSize = [.5, .6, .7, .8, .9]\n",
        "\n",
        "mleDevScores = []\n",
        "mleTestScores = []\n",
        "knnDevScores = []\n",
        "knnTestScores = []\n",
        "\n",
        "for size in trainSize:\n",
        "    print(f'\\n\\nProcessing for train size: {size*100}%')\n",
        "    mle_dev_scores = []\n",
        "    mle_test_scores = []\n",
        "    knn_dev_scores = []\n",
        "    knn_test_scores = []\n",
        "\n",
        "    for seed in tqdm(seeds):\n",
        "        X_dev, X_test, Y_dev, Y_test = train_test_split(X, Y, test_size=1-size, shuffle=True, stratify=Y, random_state=seed)\n",
        "        \n",
        "        mle = MLEClassifier()\n",
        "        mle.fit(data=X_dev, labels=Y_dev)\n",
        "\n",
        "        mle_dev_scores.append(mle.score(data=X_dev, true=Y_dev))\n",
        "        mle_test_scores.append(mle.score(data=X_test, true=Y_test))\n",
        "        \n",
        "        sc = StandardScaler()\n",
        "        # fit the scaler on train set\n",
        "        sc.fit(X_dev)\n",
        "        # transform the train set\n",
        "        X_dev_sc = sc.transform(X_dev)\n",
        "        # transform the val set\n",
        "        X_test_sc = sc.transform(X_test)\n",
        "\n",
        "        knn_l2 = KNNClassifier()\n",
        "        knn_l2.fit(data=X_dev_sc, labels=Y_dev)\n",
        "\n",
        "        knn_dev_scores.append(knn_l2.score(pMat=X_dev_sc, true=Y_dev, K=5, p=2))\n",
        "        knn_test_scores.append(knn_l2.score(pMat=X_test_sc, true=Y_test, K=5, p=2))\n",
        "    \n",
        "    mleDevScores.append(np.mean(mle_dev_scores)) \n",
        "    mleTestScores.append(np.mean(mle_test_scores))\n",
        "    knnDevScores.append(np.mean(knn_dev_scores))\n",
        "    knnTestScores.append(np.mean(knn_test_scores))\n",
        "    "
      ],
      "metadata": {
        "colab": {
          "base_uri": "https://localhost:8080/"
        },
        "id": "zQHkHKAHW7cy",
        "outputId": "06cd1df8-fae6-482b-eba2-64d7c9c34ddc"
      },
      "execution_count": 26,
      "outputs": [
        {
          "output_type": "stream",
          "name": "stdout",
          "text": [
            "\n",
            "\n",
            "Processing for train size: 50.0%\n"
          ]
        },
        {
          "output_type": "stream",
          "name": "stderr",
          "text": [
            "100%|██████████| 5/5 [02:47<00:00, 33.44s/it]\n"
          ]
        },
        {
          "output_type": "stream",
          "name": "stdout",
          "text": [
            "\n",
            "\n",
            "Processing for train size: 60.0%\n"
          ]
        },
        {
          "output_type": "stream",
          "name": "stderr",
          "text": [
            "100%|██████████| 5/5 [03:03<00:00, 36.72s/it]\n"
          ]
        },
        {
          "output_type": "stream",
          "name": "stdout",
          "text": [
            "\n",
            "\n",
            "Processing for train size: 70.0%\n"
          ]
        },
        {
          "output_type": "stream",
          "name": "stderr",
          "text": [
            "100%|██████████| 5/5 [03:19<00:00, 39.86s/it]\n"
          ]
        },
        {
          "output_type": "stream",
          "name": "stdout",
          "text": [
            "\n",
            "\n",
            "Processing for train size: 80.0%\n"
          ]
        },
        {
          "output_type": "stream",
          "name": "stderr",
          "text": [
            "100%|██████████| 5/5 [03:34<00:00, 42.84s/it]\n"
          ]
        },
        {
          "output_type": "stream",
          "name": "stdout",
          "text": [
            "\n",
            "\n",
            "Processing for train size: 90.0%\n"
          ]
        },
        {
          "output_type": "stream",
          "name": "stderr",
          "text": [
            "100%|██████████| 5/5 [03:44<00:00, 44.87s/it]\n"
          ]
        }
      ]
    },
    {
      "cell_type": "code",
      "source": [
        "plt.figure(figsize=(10,6))\n",
        "\n",
        "plt.plot(trainSize, mleDevScores, label='MLE Dev Scores')\n",
        "plt.plot(trainSize, mleTestScores, label='MLE Test Scores')\n",
        "plt.plot(trainSize, knnDevScores, label='KNN Dev Scores')\n",
        "plt.plot(trainSize, knnTestScores, label='KNN Test Scores')\n",
        "\n",
        "plt.xlabel('Proportion of data used for training')\n",
        "plt.ylabel('Average accuracy over 5 splits')\n",
        "plt.title('Comparing MLE and KNN (K=5, $L_2$ norm) classifiers')\n",
        "plt.xticks(trainSize)\n",
        "plt.legend()\n",
        "plt.savefig('Comparison.png');"
      ],
      "metadata": {
        "colab": {
          "base_uri": "https://localhost:8080/",
          "height": 406
        },
        "id": "PIvheU32ad8Z",
        "outputId": "0a9cff47-0e07-43cd-8865-375732990183"
      },
      "execution_count": 27,
      "outputs": [
        {
          "output_type": "display_data",
          "data": {
            "image/png": "[encoded data removed]",
            "text/plain": [
              "<Figure size 720x432 with 1 Axes>"
            ]
          },
          "metadata": {
            "needs_background": "light"
          }
        }
      ]
    },
    {
      "cell_type": "markdown",
      "source": [
        "Let us tune the metric to be used in KNN for $K=5$"
      ],
      "metadata": {
        "id": "1v4J-iNL-MeW"
      }
    },
    {
      "cell_type": "code",
      "source": [
        "nSplits = 10\n",
        "metrics = [1, 2, np.inf]\n",
        "\n",
        "X_dev, X_test, Y_dev, Y_test = train_test_split(X, Y, test_size=.2, shuffle=True, stratify=Y, random_state=42)\n",
        "skf = StratifiedKFold(n_splits=nSplits, shuffle=True, random_state=84)\n",
        "\n",
        "curr_split = 0\n",
        "splitTrainScores = []\n",
        "splitValScores = []\n",
        "\n",
        "for train_index, val_index in skf.split(X_dev, Y_dev):\n",
        "    curr_split += 1 \n",
        "\n",
        "    X_train = X_dev[train_index]\n",
        "    Y_train = Y_dev[train_index]\n",
        "\n",
        "    X_val = X_dev[val_index]\n",
        "    Y_val = Y_dev[val_index]\n",
        "\n",
        "    sc = StandardScaler()\n",
        "    # fit the scaler on train set\n",
        "    sc.fit(X_train)\n",
        "    # transform the train set\n",
        "    X_train_sc = sc.transform(X_train)\n",
        "    # transform the val set\n",
        "    X_val_sc = sc.transform(X_val)\n",
        "\n",
        "    # Build the KNN Classifier on train set\n",
        "    knn = KNNClassifier()\n",
        "    knn.fit(data=X_train_sc, labels=Y_train)\n",
        "\n",
        "    train_scores = []\n",
        "    val_scores = []\n",
        "\n",
        "    print(f'\\n\\nProcessing split:{curr_split}')\n",
        "    for metric in tqdm(metrics):\n",
        "        train_scores.append(knn.score(pMat=X_train_sc, true=Y_train, K=5, p=metric)) \n",
        "        val_scores.append(knn.score(pMat=X_val_sc, true=Y_val, K=5, p=metric))\n",
        "   \n",
        "    splitTrainScores.append(train_scores)\n",
        "    splitValScores.append(val_scores)\n",
        "\n",
        "splitTrainScores = np.array(splitTrainScores).T\n",
        "splitValScores = np.array(splitValScores).T\n",
        "\n",
        "avgTrainScores = np.mean(splitTrainScores, axis=1)\n",
        "avgValScores = np.mean(splitValScores, axis=1)"
      ],
      "metadata": {
        "colab": {
          "base_uri": "https://localhost:8080/"
        },
        "id": "AsCG3EkG3eO4",
        "outputId": "ff3c9961-b897-432e-8915-5762fa57c1c7"
      },
      "execution_count": 28,
      "outputs": [
        {
          "output_type": "stream",
          "name": "stdout",
          "text": [
            "\n",
            "\n",
            "Processing split:1\n"
          ]
        },
        {
          "output_type": "stream",
          "name": "stderr",
          "text": [
            "100%|██████████| 3/3 [01:08<00:00, 22.89s/it]\n"
          ]
        },
        {
          "output_type": "stream",
          "name": "stdout",
          "text": [
            "\n",
            "\n",
            "Processing split:2\n"
          ]
        },
        {
          "output_type": "stream",
          "name": "stderr",
          "text": [
            "100%|██████████| 3/3 [01:10<00:00, 23.65s/it]\n"
          ]
        },
        {
          "output_type": "stream",
          "name": "stdout",
          "text": [
            "\n",
            "\n",
            "Processing split:3\n"
          ]
        },
        {
          "output_type": "stream",
          "name": "stderr",
          "text": [
            "100%|██████████| 3/3 [01:06<00:00, 22.28s/it]\n"
          ]
        },
        {
          "output_type": "stream",
          "name": "stdout",
          "text": [
            "\n",
            "\n",
            "Processing split:4\n"
          ]
        },
        {
          "output_type": "stream",
          "name": "stderr",
          "text": [
            "100%|██████████| 3/3 [01:11<00:00, 23.78s/it]\n"
          ]
        },
        {
          "output_type": "stream",
          "name": "stdout",
          "text": [
            "\n",
            "\n",
            "Processing split:5\n"
          ]
        },
        {
          "output_type": "stream",
          "name": "stderr",
          "text": [
            "100%|██████████| 3/3 [01:08<00:00, 22.84s/it]\n"
          ]
        },
        {
          "output_type": "stream",
          "name": "stdout",
          "text": [
            "\n",
            "\n",
            "Processing split:6\n"
          ]
        },
        {
          "output_type": "stream",
          "name": "stderr",
          "text": [
            "100%|██████████| 3/3 [01:08<00:00, 22.76s/it]\n"
          ]
        },
        {
          "output_type": "stream",
          "name": "stdout",
          "text": [
            "\n",
            "\n",
            "Processing split:7\n"
          ]
        },
        {
          "output_type": "stream",
          "name": "stderr",
          "text": [
            "100%|██████████| 3/3 [01:08<00:00, 22.69s/it]\n"
          ]
        },
        {
          "output_type": "stream",
          "name": "stdout",
          "text": [
            "\n",
            "\n",
            "Processing split:8\n"
          ]
        },
        {
          "output_type": "stream",
          "name": "stderr",
          "text": [
            "100%|██████████| 3/3 [01:06<00:00, 22.17s/it]\n"
          ]
        },
        {
          "output_type": "stream",
          "name": "stdout",
          "text": [
            "\n",
            "\n",
            "Processing split:9\n"
          ]
        },
        {
          "output_type": "stream",
          "name": "stderr",
          "text": [
            "100%|██████████| 3/3 [01:11<00:00, 23.88s/it]\n"
          ]
        },
        {
          "output_type": "stream",
          "name": "stdout",
          "text": [
            "\n",
            "\n",
            "Processing split:10\n"
          ]
        },
        {
          "output_type": "stream",
          "name": "stderr",
          "text": [
            "100%|██████████| 3/3 [01:08<00:00, 22.82s/it]\n"
          ]
        }
      ]
    },
    {
      "cell_type": "code",
      "source": [
        "df = {'Metric': ['$L_1$', '$L_2$', '$L_\\infty$']+['$L_1$', '$L_2$', '$L_\\infty$'], \n",
        "      'Score': avgTrainScores.tolist()+avgValScores.tolist(), \n",
        "      'Accuracy': ['Train']*3+['Validation']*3}\n",
        "\n",
        "df = pd.DataFrame(df)\n",
        "\n",
        "plt.figure(figsize=(10,6))\n",
        "\n",
        "sns.barplot(data=df, x='Metric', y='Score', hue='Accuracy')\n",
        "plt.xlabel('Metric')\n",
        "plt.ylabel('Average Score over 10 splits')\n",
        "plt.yticks([.05*i for i in range(20)])\n",
        "plt.title('10-Fold CV Results for tuning metric of KNN with $K=5$')\n",
        "plt.savefig('Tuning metric.png');"
      ],
      "metadata": {
        "colab": {
          "base_uri": "https://localhost:8080/",
          "height": 410
        },
        "id": "r1BN2GIG8RpO",
        "outputId": "97039afc-3a55-42a6-b2f1-3222bdca31e7"
      },
      "execution_count": 29,
      "outputs": [
        {
          "output_type": "display_data",
          "data": {
            "image/png": "[encoded data removed]",
            "text/plain": [
              "<Figure size 720x432 with 1 Axes>"
            ]
          },
          "metadata": {
            "needs_background": "light"
          }
        }
      ]
    },
    {
      "cell_type": "code",
      "source": [
        "print(f'L_1 - Avg Train Score: {avgTrainScores[0]:.3f}, Avg Validation Score:{avgValScores[0]:.3f}')\n",
        "print(f'L_2 - Avg Train Score: {avgTrainScores[1]:.3f}, Avg Validation Score:{avgValScores[1]:.3f}')\n",
        "print(f'L_inf - Avg Train Score: {avgTrainScores[2]:.3f}, Avg Validation Score:{avgValScores[2]:.3f}')\n"
      ],
      "metadata": {
        "colab": {
          "base_uri": "https://localhost:8080/"
        },
        "id": "NvXJXp8O3DTL",
        "outputId": "e28689ab-f17d-461d-b3f8-02df48e58350"
      },
      "execution_count": 30,
      "outputs": [
        {
          "output_type": "stream",
          "name": "stdout",
          "text": [
            "L_1 - Avg Train Score: 0.950, Avg Validation Score:0.924\n",
            "L_2 - Avg Train Score: 0.941, Avg Validation Score:0.911\n",
            "L_inf - Avg Train Score: 0.768, Avg Validation Score:0.675\n"
          ]
        }
      ]
    },
    {
      "cell_type": "markdown",
      "source": [
        "We can see that KNN with $L_\\infty$ norm performs significantly worse than the other metrics. Both $L_1$ and $L_2$ are comparable, however, $L_1$ wins by a small margin. \n",
        "\n",
        "We now evaluate their performance by training on the whole of development set and testing on the test set."
      ],
      "metadata": {
        "id": "w4tKKQ47PeX0"
      }
    },
    {
      "cell_type": "code",
      "source": [
        "sc = StandardScaler()\n",
        "# fit the scaler on train set\n",
        "sc.fit(X_dev)\n",
        "# transform the train set\n",
        "X_dev_sc = sc.transform(X_dev)\n",
        "# transform the val set\n",
        "X_test_sc = sc.transform(X_test)\n",
        "\n",
        "\n",
        "knn = KNNClassifier()\n",
        "knn.fit(data=X_dev_sc, labels=Y_dev)\n",
        "\n",
        "print(f'L_1 Test Accuracy: {knn.score(pMat=X_test_sc, true=Y_test, K=5, p=1)}')\n",
        "print(f'L_2 Test Accuracy: {knn.score(pMat=X_test_sc, true=Y_test, K=5, p=2)}')\n",
        "print(f'L_inf Test Accuracy: {knn.score(pMat=X_test_sc, true=Y_test, K=5, p=np.inf)}')"
      ],
      "metadata": {
        "colab": {
          "base_uri": "https://localhost:8080/"
        },
        "id": "zrwumsl0PHET",
        "outputId": "acaf2690-dd4f-4600-8a4c-30d28d5b302a"
      },
      "execution_count": 31,
      "outputs": [
        {
          "output_type": "stream",
          "name": "stdout",
          "text": [
            "L_1 Test Accuracy: 0.922\n",
            "L_2 Test Accuracy: 0.908\n",
            "L_inf Test Accuracy: 0.689\n"
          ]
        }
      ]
    },
    {
      "cell_type": "markdown",
      "source": [
        "Hence, we can go with $L_1$ as our metric for KNN classifier."
      ],
      "metadata": {
        "id": "XeTFcIgmXGsq"
      }
    },
    {
      "cell_type": "markdown",
      "source": [
        "We can also tune both metric and $K$ simultaneously"
      ],
      "metadata": {
        "id": "8XdVsEghovXP"
      }
    },
    {
      "cell_type": "code",
      "source": [
        "nSplits = 10\n",
        "metrics = [1, 2]\n",
        "neighbors = [i+1 for i in range(20)]\n",
        "\n",
        "X_dev, X_test, Y_dev, Y_test = train_test_split(X, Y, test_size=.2, shuffle=True, stratify=Y, random_state=42)\n",
        "skf = StratifiedKFold(n_splits=nSplits, shuffle=True, random_state=84)\n",
        "\n",
        "trainScores = {}\n",
        "valScores = {}\n",
        "\n",
        "for metric in metrics:\n",
        "    print(f'\\n\\nProcessing neighbors for L_{metric} norm')\n",
        "    for k in tqdm(neighbors):\n",
        "        curr = 'metric:' + str(metric) + ' k:' + str(k)\n",
        "        trainScores[curr] = []\n",
        "        valScores[curr] = []\n",
        "        \n",
        "        for train_index, val_index in skf.split(X_dev, Y_dev):\n",
        "            X_train = X_dev[train_index]\n",
        "            Y_train = Y_dev[train_index]\n",
        "\n",
        "            X_val = X_dev[val_index]\n",
        "            Y_val = Y_dev[val_index]\n",
        "\n",
        "            sc = StandardScaler()\n",
        "            # fit the scaler on train set\n",
        "            sc.fit(X_train)\n",
        "            # transform the train set\n",
        "            X_train_sc = sc.transform(X_train)\n",
        "            # transform the val set\n",
        "            X_val_sc = sc.transform(X_val)\n",
        "            \n",
        "            knn = KNNClassifier()\n",
        "            knn.fit(data=X_train_sc, labels=Y_train)\n",
        "\n",
        "            trainScores[curr].append(knn.score(pMat=X_train_sc, true=Y_train, K=k, p=metric))\n",
        "            valScores[curr].append(knn.score(pMat=X_val_sc, true=Y_val, K=k, p=metric))\n",
        "            "
      ],
      "metadata": {
        "colab": {
          "base_uri": "https://localhost:8080/"
        },
        "outputId": "aa8e365d-3aa1-4a23-a654-4f6ee8f9cdbc",
        "id": "wSgzOOHKYfV4"
      },
      "execution_count": 34,
      "outputs": [
        {
          "metadata": {
            "tags": null
          },
          "name": "stdout",
          "output_type": "stream",
          "text": [
            "\n",
            "\n",
            "Processing neighbors for L_1 norm\n"
          ]
        },
        {
          "output_type": "stream",
          "name": "stderr",
          "text": [
            "100%|██████████| 20/20 [1:53:05<00:00, 339.29s/it]\n"
          ]
        },
        {
          "output_type": "stream",
          "name": "stdout",
          "text": [
            "\n",
            "\n",
            "Processing neighbors for L_2 norm\n"
          ]
        },
        {
          "output_type": "stream",
          "name": "stderr",
          "text": [
            "100%|██████████| 20/20 [18:49<00:00, 56.47s/it]\n"
          ]
        }
      ]
    },
    {
      "cell_type": "code",
      "source": [
        "metric_key = [1 for _ in range(20)] + [2 for _ in range(20)]\n",
        "k_key = [i+1 for i in range(20)] + [i+1 for i in range(20)]\n",
        "scores = [np.mean(np.array(trainScores[f\"metric:1 k:{i+1}\"])) for i in range(20)] +  [np.mean(np.array(trainScores[f\"metric:2 k:{i+1}\"])) for i in range(20)] \n",
        "score_type = ['Train']*40 \n",
        "\n",
        "metric_key = metric_key + metric_key\n",
        "k_key = k_key + k_key\n",
        "scores = scores + [np.mean(np.array(valScores[f\"metric:1 k:{i+1}\"])) for i in range(20)] +  [np.mean(np.array(valScores[f\"metric:2 k:{i+1}\"])) for i in range(20)] \n",
        "score_type = score_type + ['Val']*40 \n",
        "\n",
        "d = {'Metric': metric_key, 'K': k_key, 'Score': scores, 'Accuracy': score_type}\n",
        "\n",
        "df = pd.DataFrame(d)\n",
        "\n",
        "plt.figure(figsize=(10,6))\n",
        "\n",
        "sns.lineplot(data=df.loc[(df['Accuracy']=='Train') & (df['Metric']==1)], x='K', y='Score', label='Train Score with $L_1$ norm')\n",
        "sns.lineplot(data=df.loc[(df['Accuracy']=='Train') & (df['Metric']==2)], x='K', y='Score', label='Train Score with $L_2$ norm')\n",
        "sns.lineplot(data=df.loc[(df['Accuracy']=='Val') & (df['Metric']==1)], x='K', y='Score', label='Validation Score with $L_1$ norm')\n",
        "sns.lineplot(data=df.loc[(df['Accuracy']=='Val') & (df['Metric']==2)], x='K', y='Score', label='Validation Score with $L_2$ norm')\n",
        "plt.xlabel('K Neighbors')\n",
        "plt.ylabel('Average Accuracy over $10$ splits')\n",
        "plt.title('Tuning metric and $K$ for KNN classifier')\n",
        "plt.xticks([i+1 for i in range(20)])\n",
        "plt.legend()\n",
        "plt.savefig('Final comparison.png');"
      ],
      "metadata": {
        "colab": {
          "base_uri": "https://localhost:8080/",
          "height": 406
        },
        "id": "5vGWMkLoL1RZ",
        "outputId": "34bb993c-8c54-44ce-b750-3aaed2efc403"
      },
      "execution_count": 35,
      "outputs": [
        {
          "output_type": "display_data",
          "data": {
            "image/png": "[encoded data removed]",
            "text/plain": [
              "<Figure size 720x432 with 1 Axes>"
            ]
          },
          "metadata": {
            "needs_background": "light"
          }
        }
      ]
    },
    {
      "cell_type": "markdown",
      "source": [
        "We can see that $L_1$ with $K=7$ is the optimal combination of hyper-parameters"
      ],
      "metadata": {
        "id": "Sc4XuoKMTSzA"
      }
    },
    {
      "cell_type": "markdown",
      "source": [
        "As a sanity check, we evaluate on the test dataset"
      ],
      "metadata": {
        "id": "YDB7UPFzTYia"
      }
    },
    {
      "cell_type": "code",
      "source": [
        "sc = StandardScaler()\n",
        "# fit the scaler on train set\n",
        "sc.fit(X_dev)\n",
        "# transform the train set\n",
        "X_dev_sc = sc.transform(X_dev)\n",
        "# transform the val set\n",
        "X_test_sc = sc.transform(X_test)\n",
        "\n",
        "\n",
        "knn_l2_5 = KNNClassifier()\n",
        "knn_l2_5.fit(data=X_dev_sc, labels=Y_dev)\n",
        "\n",
        "knn_l1_7 = KNNClassifier()\n",
        "knn_l1_7.fit(data=X_dev_sc, labels=Y_dev)\n",
        "\n",
        "print(f'L_2 with K=5 Test Accuracy: {knn_l2_5.score(pMat=X_test_sc, true=Y_test, K=5, p=2)}')\n",
        "print(f'L_1 with K=7 Test Accuracy: {knn_l1_7.score(pMat=X_test_sc, true=Y_test, K=7, p=1)}')\n"
      ],
      "metadata": {
        "colab": {
          "base_uri": "https://localhost:8080/"
        },
        "id": "QlqgRjorOPoE",
        "outputId": "54338472-95fd-43f5-9dfa-ca4bee8dc032"
      },
      "execution_count": 36,
      "outputs": [
        {
          "output_type": "stream",
          "name": "stdout",
          "text": [
            "L_2 with K=5 Test Accuracy: 0.908\n",
            "L_1 with K=7 Test Accuracy: 0.9235\n"
          ]
        }
      ]
    },
    {
      "cell_type": "code",
      "source": [
        ""
      ],
      "metadata": {
        "id": "FyO1aB1s3B_2"
      },
      "execution_count": 36,
      "outputs": []
    }
  ]
}