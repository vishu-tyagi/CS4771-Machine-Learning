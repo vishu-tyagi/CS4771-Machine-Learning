{
  "nbformat": 4,
  "nbformat_minor": 0,
  "metadata": {
    "colab": {
      "name": "mle_classifier.ipynb",
      "provenance": [],
      "machine_shape": "hm",
      "collapsed_sections": []
    },
    "kernelspec": {
      "name": "python3",
      "display_name": "Python 3"
    },
    "language_info": {
      "name": "python"
    },
    "accelerator": "GPU"
  },
  "cells": [
    {
      "cell_type": "code",
      "execution_count": 2,
      "metadata": {
        "id": "NRoT2Mw8I550"
      },
      "outputs": [],
      "source": [
        "from tqdm import tqdm\n",
        "\n",
        "import numpy as np\n",
        "import pandas as pd\n",
        "import seaborn as sns\n",
        "import matplotlib.pyplot as plt\n",
        "\n",
        "import pprint as pp\n",
        "pp = pp.PrettyPrinter(indent=4)\n",
        "\n",
        "from sklearn.model_selection import train_test_split, StratifiedKFold\n",
        "from sklearn.preprocessing import StandardScaler\n",
        "\n",
        "from utils import *"
      ]
    },
    {
      "cell_type": "code",
      "source": [
        "X, Y = load_data()\n",
        "X = X/255.\n",
        "\n",
        "(m, d) = X.shape\n",
        "print(f'Input dimension:{d}, Total samples: {m}')"
      ],
      "metadata": {
        "colab": {
          "base_uri": "https://localhost:8080/"
        },
        "id": "kn-xTmAWKzFm",
        "outputId": "007895a3-6b6f-470e-8a37-63c6a1dd41f2"
      },
      "execution_count": 3,
      "outputs": [
        {
          "output_type": "stream",
          "name": "stdout",
          "text": [
            "Input dimension:784, Total samples: 10000\n"
          ]
        }
      ]
    },
    {
      "cell_type": "code",
      "source": [
        "np.random.seed(99)\n",
        "\n",
        "idx = np.random.randint(low=0, high=m)\n",
        "\n",
        "plt.figure(figsize=(8,6))\n",
        "plt.imshow(X[idx].reshape((28,28)));\n",
        "print(Y[idx])"
      ],
      "metadata": {
        "colab": {
          "base_uri": "https://localhost:8080/",
          "height": 392
        },
        "id": "CoGMBZgjK3Aa",
        "outputId": "7f568027-1409-4531-bea0-491f55b550f8"
      },
      "execution_count": 4,
      "outputs": [
        {
          "output_type": "stream",
          "name": "stdout",
          "text": [
            "[6]\n"
          ]
        },
        {
          "output_type": "display_data",
          "data": {
            "image/png": "[encoded data removed]",
            "text/plain": [
              "<Figure size 576x432 with 1 Axes>"
            ]
          },
          "metadata": {
            "needs_background": "light"
          }
        }
      ]
    },
    {
      "cell_type": "code",
      "source": [
        "print(f'Proportion of classes in given dataset')\n",
        "uniques, counts = np.unique(Y, return_counts=True)\n",
        "percentages = dict(zip(uniques, counts * 100 / len(Y)))\n",
        "pp.pprint(percentages)\n"
      ],
      "metadata": {
        "colab": {
          "base_uri": "https://localhost:8080/"
        },
        "id": "eeiHiNNNwpud",
        "outputId": "c77121fd-eb49-4be2-9600-18487b6ce1c2"
      },
      "execution_count": 5,
      "outputs": [
        {
          "output_type": "stream",
          "name": "stdout",
          "text": [
            "Proportion of classes in given dataset\n",
            "{   0: 9.76,\n",
            "    1: 11.32,\n",
            "    2: 9.48,\n",
            "    3: 10.5,\n",
            "    4: 9.72,\n",
            "    5: 9.04,\n",
            "    6: 10.08,\n",
            "    7: 10.29,\n",
            "    8: 9.72,\n",
            "    9: 10.09}\n"
          ]
        }
      ]
    },
    {
      "cell_type": "code",
      "source": [
        "devScores = []\n",
        "testScores = []\n",
        "seeds = [28, 42, 84, 128, 164, 256, 512, 999]\n",
        "\n",
        "for seed in tqdm(seeds):\n",
        "    X_dev, X_test, Y_dev, Y_test = train_test_split(X, Y, test_size=.2, shuffle=True, stratify=Y, random_state=seed)\n",
        "\n",
        "    mle = MLEClassifier()\n",
        "    mle.fit(X_dev, Y_dev)\n",
        "\n",
        "    devScores.append(mle.score(X_dev, Y_dev))\n",
        "    testScores.append(mle.score(X_test, Y_test))\n",
        "\n"
      ],
      "metadata": {
        "colab": {
          "base_uri": "https://localhost:8080/"
        },
        "id": "6KEb--mbSy2R",
        "outputId": "43b73546-b349-4968-d0d9-fb38ac49969a"
      },
      "execution_count": 6,
      "outputs": [
        {
          "output_type": "stream",
          "name": "stderr",
          "text": [
            "100%|██████████| 8/8 [04:45<00:00, 35.66s/it]\n"
          ]
        }
      ]
    },
    {
      "cell_type": "code",
      "source": [
        "print(f'\\n\\nAverage accuracy on dev set: {np.mean(np.array(devScores)):.3f}')\n",
        "print(f'Average accuracy on test set: {np.mean(np.array(testScores)):.3f}')"
      ],
      "metadata": {
        "colab": {
          "base_uri": "https://localhost:8080/"
        },
        "id": "oI_xZMGKNgb4",
        "outputId": "87699ed9-654b-42fc-c56d-4231ec23d919"
      },
      "execution_count": 7,
      "outputs": [
        {
          "output_type": "stream",
          "name": "stdout",
          "text": [
            "\n",
            "\n",
            "Average accuracy on dev set: 0.961\n",
            "Average accuracy on test set: 0.932\n"
          ]
        }
      ]
    },
    {
      "cell_type": "code",
      "source": [
        "df = {'Random Seed':seeds+seeds, \n",
        "      'Score':devScores+testScores, \n",
        "      'Accuracy':['Development']*8 + ['Test']*8}\n",
        "\n",
        "df = pd.DataFrame(df)\n",
        "\n",
        "plt.figure(figsize=(10,6))\n",
        "\n",
        "sns.barplot(data=df, x='Random Seed', y='Score', hue='Accuracy')\n",
        "plt.xlabel('Random Seed')\n",
        "plt.ylabel('Average accuracy over 8 splits')\n",
        "plt.title('Evaluating MLE classifier')\n",
        "plt.yticks([.1*i for i in range(10)])\n",
        "plt.savefig('Evaluating_MLE_Classifer');"
      ],
      "metadata": {
        "colab": {
          "base_uri": "https://localhost:8080/",
          "height": 404
        },
        "id": "ELE2dPvbMAcU",
        "outputId": "2a66f964-b9a8-4edc-a12b-5bb122868a31"
      },
      "execution_count": 11,
      "outputs": [
        {
          "output_type": "display_data",
          "data": {
            "image/png": "[encoded data removed]",
            "text/plain": [
              "<Figure size 720x432 with 1 Axes>"
            ]
          },
          "metadata": {
            "needs_background": "light"
          }
        }
      ]
    },
    {
      "cell_type": "code",
      "source": [
        "devScores"
      ],
      "metadata": {
        "colab": {
          "base_uri": "https://localhost:8080/"
        },
        "id": "HfTDXcO9mtl1",
        "outputId": "36838734-4d5b-44db-cd1a-f205839c4657"
      },
      "execution_count": 9,
      "outputs": [
        {
          "output_type": "execute_result",
          "data": {
            "text/plain": [
              "[0.959625, 0.961625, 0.962125, 0.95975, 0.960625, 0.96075, 0.960875, 0.959625]"
            ]
          },
          "metadata": {},
          "execution_count": 9
        }
      ]
    },
    {
      "cell_type": "code",
      "source": [
        "testScores"
      ],
      "metadata": {
        "colab": {
          "base_uri": "https://localhost:8080/"
        },
        "id": "Ml-lbcgWmt75",
        "outputId": "4be6890f-ec48-4659-a429-45ebbb0ec4d3"
      },
      "execution_count": 10,
      "outputs": [
        {
          "output_type": "execute_result",
          "data": {
            "text/plain": [
              "[0.9335, 0.9305, 0.935, 0.9285, 0.926, 0.933, 0.9375, 0.9315]"
            ]
          },
          "metadata": {},
          "execution_count": 10
        }
      ]
    },
    {
      "cell_type": "code",
      "source": [
        ""
      ],
      "metadata": {
        "id": "d9K9dFrnmxJI"
      },
      "execution_count": null,
      "outputs": []
    }
  ]
}