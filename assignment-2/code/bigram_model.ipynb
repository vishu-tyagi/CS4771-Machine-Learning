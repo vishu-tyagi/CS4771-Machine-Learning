{
  "nbformat": 4,
  "nbformat_minor": 0,
  "metadata": {
    "colab": {
      "name": "bigram_model.ipynb",
      "provenance": [],
      "collapsed_sections": [],
      "machine_shape": "hm"
    },
    "kernelspec": {
      "name": "python3",
      "display_name": "Python 3"
    },
    "language_info": {
      "name": "python"
    },
    "accelerator": "TPU"
  },
  "cells": [
    {
      "cell_type": "code",
      "execution_count": 1,
      "metadata": {
        "id": "XRjWiowaVKFN"
      },
      "outputs": [],
      "source": [
        "import re\n",
        "import os\n",
        "import random\n",
        "os.chdir('/content/drive/MyDrive/ML/hw2')\n",
        "\n",
        "from utils import *\n",
        "\n",
        "import numpy as np\n",
        "import pandas as pd\n",
        "\n",
        "import scipy\n",
        "from scipy import sparse\n",
        "\n",
        "from sklearn.metrics import precision_score, recall_score, accuracy_score\n",
        "from sklearn.preprocessing import normalize\n",
        "\n",
        "from tqdm import tqdm\n",
        "import progressbar\n",
        "from itertools import chain\n",
        "from collections import Counter\n",
        "tqdm.pandas()\n",
        "\n",
        "import pprint as pp\n",
        "pp = pp.PrettyPrinter(indent=4)"
      ]
    },
    {
      "cell_type": "code",
      "source": [
        "train, test = load_data(merge=False)\n",
        "\n",
        "print(f'Number of training samples: {train.shape[0]}')\n",
        "print(f'Number of test samples: {test.shape[0]}')"
      ],
      "metadata": {
        "colab": {
          "base_uri": "https://localhost:8080/"
        },
        "id": "NcV8OErzZtE5",
        "outputId": "5063a5ea-2cb3-4232-a10f-c469568a53cc"
      },
      "execution_count": 2,
      "outputs": [
        {
          "output_type": "stream",
          "name": "stdout",
          "text": [
            "Number of training samples: 1000000\n",
            "Number of test samples: 320122\n"
          ]
        }
      ]
    },
    {
      "cell_type": "code",
      "source": [
        "bigram_model = BigramModel()\n",
        "\n",
        "bigram_model.build_vocab(data=train, unigram_threshold=3000, bigram_threshold=3000)\n",
        "print(f'\\n\\nNumber of features in unigram bigram vocabulary: {len(bigram_model.unigram_bigram_vocab)}')\n",
        "print(f'Few sample features in unigram bigram vocabulary:: {[word for word in bigram_model.unigram_bigram_vocab][300:305]}')"
      ],
      "metadata": {
        "colab": {
          "base_uri": "https://localhost:8080/"
        },
        "id": "yRks2C9Y3LME",
        "outputId": "bb376e24-da28-4705-acb7-c72f57d6a506"
      },
      "execution_count": 3,
      "outputs": [
        {
          "output_type": "stream",
          "name": "stderr",
          "text": [
            "100%|██████████| 1000000/1000000 [00:46<00:00, 21614.79it/s]\n",
            "100%|██████████| 1000000/1000000 [00:42<00:00, 23260.21it/s]\n"
          ]
        },
        {
          "output_type": "stream",
          "name": "stdout",
          "text": [
            "\n",
            "\n",
            "Number of features in unigram bigram vocabulary: 6549\n",
            "Few sample features in unigram bigram vocabulary:: ['and my', 'and never', 'and nice', 'and no', 'and not']\n"
          ]
        }
      ]
    },
    {
      "cell_type": "markdown",
      "source": [
        "# Term Frequency - Unigram and Bigram Model"
      ],
      "metadata": {
        "id": "YKMCzy0yu3nO"
      }
    },
    {
      "cell_type": "code",
      "source": [
        "train_unibi_tf, idf = bigram_model.tf(data=train, type='train')\n",
        "print(f'\\n\\nTerm Frequency unigram bigram matrix shape (no lift) for train data: {train_unibi_tf.shape}')"
      ],
      "metadata": {
        "colab": {
          "base_uri": "https://localhost:8080/"
        },
        "outputId": "a87c7b10-71cd-4ccb-fa54-cce2a7cfcb8a",
        "id": "XZDRbvKjuyhX"
      },
      "execution_count": 4,
      "outputs": [
        {
          "output_type": "stream",
          "name": "stderr",
          "text": [
            "100%|██████████| 1000000/1000000 [08:16<00:00, 2014.47it/s]\n"
          ]
        },
        {
          "output_type": "stream",
          "name": "stdout",
          "text": [
            "\n",
            "\n",
            "Term Frequency unigram bigram matrix shape (no lift) for train data: (1000000, 6549)\n"
          ]
        }
      ]
    },
    {
      "cell_type": "code",
      "source": [
        "# train\n",
        "clf_unibi_tf = Perceptron(bigram_model.unigram_bigram_vocab_size)\n",
        "clf_unibi_tf.fit(train.label.tolist(), train_unibi_tf)\n",
        "\n",
        "print(f'\\nWeight vector shape (lifted): {clf_unibi_tf.w_avg.shape}')"
      ],
      "metadata": {
        "colab": {
          "base_uri": "https://localhost:8080/"
        },
        "id": "EOaFWG7QuqF0",
        "outputId": "7185ed4f-ad40-43ef-ae6c-7910094f4111"
      },
      "execution_count": 5,
      "outputs": [
        {
          "output_type": "stream",
          "name": "stderr",
          "text": [
            "100%|██████████| 1000000/1000000 [08:21<00:00, 1993.91it/s]\n",
            "100%|██████████| 1000000/1000000 [09:14<00:00, 1802.48it/s]"
          ]
        },
        {
          "output_type": "stream",
          "name": "stdout",
          "text": [
            "\n",
            "Weight vector shape (lifted): (6550, 1)\n"
          ]
        },
        {
          "output_type": "stream",
          "name": "stderr",
          "text": [
            "\n"
          ]
        }
      ]
    },
    {
      "cell_type": "code",
      "source": [
        "test_unibi_tf = bigram_model.tf(data=test, type='test')\n",
        "print(f'\\n\\nTerm Frequency unigram bigram matrix shape (no lift) for test data: {test_unibi_tf.shape}')"
      ],
      "metadata": {
        "id": "levKCu59uyhX",
        "colab": {
          "base_uri": "https://localhost:8080/"
        },
        "outputId": "6d1557a1-2dac-47d8-93bc-15412e3c1775"
      },
      "execution_count": 6,
      "outputs": [
        {
          "output_type": "stream",
          "name": "stderr",
          "text": [
            "100%|██████████| 320122/320122 [02:00<00:00, 2653.58it/s]\n"
          ]
        },
        {
          "output_type": "stream",
          "name": "stdout",
          "text": [
            "\n",
            "\n",
            "Term Frequency unigram bigram matrix shape (no lift) for test data: (320122, 6549)\n"
          ]
        }
      ]
    },
    {
      "cell_type": "code",
      "source": [
        "# evaluate\n",
        "train_scores = clf_unibi_tf.evaluate(train.label.tolist(), train_unibi_tf)\n",
        "test_scores = clf_unibi_tf.evaluate(test.label.tolist(), test_unibi_tf)\n",
        "\n",
        "print(f'TF unigram bigram train scores:\\t accuracy:{train_scores[0]:.3f}, precision:{train_scores[1]:.3f}, recall:{train_scores[2]:.3f}')\n",
        "print(f'TF unigram bigram test scores:\\t accuracy:{test_scores[0]:.3f}, precision:{test_scores[1]:.3f}, recall:{test_scores[2]:.3f}')\n"
      ],
      "metadata": {
        "id": "PQy11V1XuyhY",
        "colab": {
          "base_uri": "https://localhost:8080/"
        },
        "outputId": "00d297ea-9c62-4c1f-9f63-70ba66a83ad9"
      },
      "execution_count": 7,
      "outputs": [
        {
          "output_type": "stream",
          "name": "stdout",
          "text": [
            "TF unigram bigram train scores:\t accuracy:0.904, precision:0.919, recall:0.938\n",
            "TF unigram bigram test scores:\t accuracy:0.902, precision:0.917, recall:0.936\n"
          ]
        }
      ]
    },
    {
      "cell_type": "markdown",
      "source": [
        "# Term Frequencey Inverse Document Frequency (TF-IDF) - Unigram & Bigram Model"
      ],
      "metadata": {
        "id": "SzTqMwQzuyhZ"
      }
    },
    {
      "cell_type": "code",
      "source": [
        "train_unibi_tfidf = bigram_model.tfidf(data=train, term_frequency_mat=train_unibi_tf, idf_mat=idf)\n",
        "print(f'\\n\\nTF-IDF unigram bigram matrix shape (w/o lift) for train data: {train_unibi_tfidf.shape}')\n"
      ],
      "metadata": {
        "colab": {
          "base_uri": "https://localhost:8080/"
        },
        "outputId": "8f8ac84e-416f-4fb8-fd72-5d1e6e52c5f5",
        "id": "4pbhIiE2uyhZ"
      },
      "execution_count": 9,
      "outputs": [
        {
          "output_type": "stream",
          "name": "stdout",
          "text": [
            "\n",
            "\n",
            "TF-IDF unigram bigram matrix shape (w/o lift) for train data: (1000000, 6549)\n"
          ]
        }
      ]
    },
    {
      "cell_type": "code",
      "source": [
        "# train\n",
        "clf_unibi_tfidf = Perceptron(bigram_model.unigram_bigram_vocab_size)\n",
        "clf_unibi_tfidf.fit(train.label.tolist(), train_unibi_tfidf)\n",
        "\n",
        "print(f'\\nWeight vector shape (lifted): {clf_unibi_tfidf.w_avg.shape}')"
      ],
      "metadata": {
        "colab": {
          "base_uri": "https://localhost:8080/"
        },
        "id": "0QMXk-Fn4u19",
        "outputId": "c39e3f41-2b78-4e94-9fa0-feb145962708"
      },
      "execution_count": 10,
      "outputs": [
        {
          "output_type": "stream",
          "name": "stderr",
          "text": [
            "100%|██████████| 1000000/1000000 [08:47<00:00, 1896.30it/s]\n",
            "100%|██████████| 1000000/1000000 [09:24<00:00, 1770.95it/s]"
          ]
        },
        {
          "output_type": "stream",
          "name": "stdout",
          "text": [
            "\n",
            "Weight vector shape (lifted): (6550, 1)\n"
          ]
        },
        {
          "output_type": "stream",
          "name": "stderr",
          "text": [
            "\n"
          ]
        }
      ]
    },
    {
      "cell_type": "code",
      "source": [
        "test_unibi_tfidf = bigram_model.tfidf(data=test, term_frequency_mat=test_unibi_tf, idf_mat=idf)\n",
        "print(f'\\n\\nTF-IDF unigram bigram matrix shape (w/o lift) for test data: {test_unibi_tfidf.shape}')"
      ],
      "metadata": {
        "colab": {
          "base_uri": "https://localhost:8080/"
        },
        "outputId": "39c40194-9741-4d9e-f9cc-fd01acdd9961",
        "id": "lY3j4VEHuyhZ"
      },
      "execution_count": 11,
      "outputs": [
        {
          "output_type": "stream",
          "name": "stdout",
          "text": [
            "\n",
            "\n",
            "TF-IDF unigram bigram matrix shape (w/o lift) for test data: (320122, 6549)\n"
          ]
        }
      ]
    },
    {
      "cell_type": "code",
      "source": [
        "# evaluate\n",
        "train_scores = clf_unibi_tfidf.evaluate(train.label.tolist(), train_unibi_tfidf)\n",
        "test_scores = clf_unibi_tfidf.evaluate(test.label.tolist(), test_unibi_tfidf)\n",
        "\n",
        "print(f'TF-IDF unigram bigram train scores:\\t accuracy:{train_scores[0]:.3f}, precision:{train_scores[1]:.3f}, recall:{train_scores[2]:.3f}')\n",
        "print(f'TF-IDF unigram bigram test scores:\\t accuracy:{test_scores[0]:.3f}, precision:{test_scores[1]:.3f}, recall:{test_scores[2]:.3f}')\n"
      ],
      "metadata": {
        "colab": {
          "base_uri": "https://localhost:8080/"
        },
        "outputId": "c76242b5-51b9-4fc6-c7a5-679dfd09abf6",
        "id": "IeWzpG6Puyha"
      },
      "execution_count": 13,
      "outputs": [
        {
          "output_type": "stream",
          "name": "stdout",
          "text": [
            "TF-IDF unigram bigram train scores:\t accuracy:0.905, precision:0.918, recall:0.941\n",
            "TF-IDF unigram bigram test scores:\t accuracy:0.902, precision:0.916, recall:0.939\n"
          ]
        }
      ]
    },
    {
      "cell_type": "code",
      "source": [
        ""
      ],
      "metadata": {
        "id": "SWCLE0hSyjmH"
      },
      "execution_count": null,
      "outputs": []
    },
    {
      "cell_type": "code",
      "source": [
        ""
      ],
      "metadata": {
        "id": "y7-Og1CPW4Me"
      },
      "execution_count": null,
      "outputs": []
    }
  ]
}