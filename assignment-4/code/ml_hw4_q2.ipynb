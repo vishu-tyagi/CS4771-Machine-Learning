{
  "nbformat": 4,
  "nbformat_minor": 0,
  "metadata": {
    "colab": {
      "name": "ml_hw4_q2.ipynb",
      "provenance": [],
      "collapsed_sections": [],
      "machine_shape": "hm"
    },
    "kernelspec": {
      "name": "python3",
      "display_name": "Python 3"
    },
    "language_info": {
      "name": "python"
    },
    "accelerator": "GPU"
  },
  "cells": [
    {
      "cell_type": "code",
      "execution_count": null,
      "metadata": {
        "id": "HLWLcFcOUq1e"
      },
      "outputs": [],
      "source": [
        "import os\n",
        "from pathlib import Path\n",
        "\n",
        "os.chdir('/content/drive/MyDrive/ML/hw4')\n",
        "IMAGES = Path.cwd() / 'images'\n",
        "\n",
        "from utils import *\n",
        "\n",
        "import numpy as np \n",
        "import matplotlib.pyplot as plt\n",
        "import seaborn as sns"
      ]
    },
    {
      "cell_type": "code",
      "source": [
        "cities, cities2idx, idx2cities, dist_mat = load_data(q2=True)\n",
        "\n",
        "dist_mat"
      ],
      "metadata": {
        "colab": {
          "base_uri": "https://localhost:8080/"
        },
        "id": "qoYgDBktV50I",
        "outputId": "dc98cd42-e834-43f2-c207-80a2b6ef6c04"
      },
      "execution_count": null,
      "outputs": [
        {
          "output_type": "execute_result",
          "data": {
            "text/plain": [
              "matrix([[   0,  206,  429, 1504,  963, 2976, 3095, 2979, 1949],\n",
              "        [ 206,    0,  233, 1308,  802, 2815, 2934, 2786, 1771],\n",
              "        [ 429,  233,    0, 1075,  671, 2684, 2799, 2631, 1616],\n",
              "        [1504, 1308, 1075,    0, 1329, 3273, 3053, 2687, 2037],\n",
              "        [ 963,  802,  671, 1329,    0, 2013, 2142, 2054,  996],\n",
              "        [2976, 2815, 2684, 3273, 2013,    0,  808, 1131, 1307],\n",
              "        [3095, 2934, 2799, 3053, 2142,  808,    0,  379, 1235],\n",
              "        [2979, 2786, 2631, 2687, 2054, 1131,  379,    0, 1059],\n",
              "        [1949, 1771, 1616, 2037,  996, 1307, 1235, 1059,    0]])"
            ]
          },
          "metadata": {},
          "execution_count": 2
        }
      ]
    },
    {
      "cell_type": "code",
      "source": [
        "np.random.seed(64)\n",
        "x = np.random.rand(9,2)*100\n",
        "\n",
        "plt.figure(figsize=(8,6))\n",
        "sns.scatterplot(x=x[:,0], y=x[:,1])\n",
        "plt.title('Initial Orientation');"
      ],
      "metadata": {
        "colab": {
          "base_uri": "https://localhost:8080/",
          "height": 390
        },
        "id": "KQiP5s27WKkY",
        "outputId": "dede6559-a91f-48a8-93b0-956cd08eeba5"
      },
      "execution_count": null,
      "outputs": [
        {
          "output_type": "display_data",
          "data": {
            "text/plain": [
              "<Figure size 576x432 with 1 Axes>"
            ],
            "image/png": "[encoded data removed]"
          },
          "metadata": {
            "needs_background": "light"
          }
        }
      ]
    },
    {
      "cell_type": "code",
      "source": [
        "iter = 0\n",
        "loss = []\n",
        "\n",
        "while True:\n",
        "    for i in range(9):\n",
        "        g = gradient(dist_mat, x, i)\n",
        "        update(x, i, g, lr=.1/4)\n",
        "        \n",
        "    loss.append(obj(dist_mat, x))\n",
        "\n",
        "    if iter%10 == 0:\n",
        "        print(f'iter:{iter}\\t\\t obj:{loss[-1]}')\n",
        "\n",
        "    if iter > 1000:\n",
        "        print('Ran for maximum number of iterations')\n",
        "        break\n",
        "    \n",
        "    if iter < 1 or np.abs(loss[-1]-loss[-2]) > .00001:\n",
        "        iter += 1\n",
        "    else:\n",
        "        print(f'\\nStopping criterion achieved. Last loss:{loss[-2]:.4f} \\nCurrent loss:{loss[-1]:4f}\\nDiff: {np.abs(loss[-1]-loss[-2]):.4f}')\n",
        "        break\n",
        "        \n"
      ],
      "metadata": {
        "colab": {
          "base_uri": "https://localhost:8080/"
        },
        "id": "aFsbKX1OVyEB",
        "outputId": "4654c356-446e-412a-ecb6-583d8bfcd859"
      },
      "execution_count": null,
      "outputs": [
        {
          "output_type": "stream",
          "name": "stdout",
          "text": [
            "iter:0\t\t obj:147247304.4749691\n",
            "iter:10\t\t obj:243560.52254642808\n",
            "iter:20\t\t obj:68248.06041388605\n",
            "iter:30\t\t obj:56861.07649261424\n",
            "iter:40\t\t obj:56411.43007808471\n",
            "iter:50\t\t obj:56379.96361783473\n",
            "iter:60\t\t obj:56375.28448406001\n",
            "iter:70\t\t obj:56374.361590577835\n",
            "iter:80\t\t obj:56374.15517136124\n",
            "iter:90\t\t obj:56374.105211987844\n",
            "iter:100\t\t obj:56374.092517990466\n",
            "iter:110\t\t obj:56374.08920234238\n",
            "iter:120\t\t obj:56374.08832342793\n",
            "iter:130\t\t obj:56374.08808867026\n",
            "\n",
            "Stopping criterion achieved. Last loss:56374.0881 \n",
            "Current loss:56374.088069\n",
            "Diff: 0.0000\n"
          ]
        }
      ]
    },
    {
      "cell_type": "code",
      "source": [
        "plt.figure(figsize=(12,8))\n",
        "sns.scatterplot(x=x[:,0], y=x[:,1])\n",
        "\n",
        "for i in range(9):\n",
        "    plt.text(x[i, 0]+10, x[i, 1], cities[i])\n",
        "\n",
        "plt.title('Predicted Orientation')\n",
        "plt.savefig(IMAGES/'predicted_orientation.png')"
      ],
      "metadata": {
        "colab": {
          "base_uri": "https://localhost:8080/",
          "height": 499
        },
        "id": "fuLMBud4Wct9",
        "outputId": "7018ca0c-4c1a-4e52-baa7-5a91b1f73153"
      },
      "execution_count": null,
      "outputs": [
        {
          "output_type": "display_data",
          "data": {
            "text/plain": [
              "<Figure size 864x576 with 1 Axes>"
            ],
            "image/png": "[encoded data removed]"
          },
          "metadata": {
            "needs_background": "light"
          }
        }
      ]
    },
    {
      "cell_type": "code",
      "source": [
        ""
      ],
      "metadata": {
        "id": "YnOqTaIgW_Qa"
      },
      "execution_count": null,
      "outputs": []
    }
  ]
}